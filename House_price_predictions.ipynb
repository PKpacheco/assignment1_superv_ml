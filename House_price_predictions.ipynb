{
  "cells": [
    {
      "cell_type": "markdown",
      "metadata": {
        "id": "view-in-github",
        "colab_type": "text"
      },
      "source": [
        "<a href=\"https://colab.research.google.com/github/PKpacheco/assignment1_superv_ml/blob/main/House_price_predictions.ipynb\" target=\"_parent\"><img src=\"https://colab.research.google.com/assets/colab-badge.svg\" alt=\"Open In Colab\"/></a>"
      ]
    },
    {
      "cell_type": "markdown",
      "source": [
        "# Assignment 1: Linear Regression\n",
        "Regression Group 8:\n",
        "* Mat Bosc\n",
        "* Paola Katherine Pacheco\n",
        "* Wai Ping Kwok (Evaluator)\n",
        "* Xueyao Wang (Facilitator)"
      ],
      "metadata": {
        "id": "ix0ki__lpry3"
      }
    },
    {
      "cell_type": "markdown",
      "metadata": {
        "id": "iqwtSY1Nk96R"
      },
      "source": [
        "# House predictions with linear regression"
      ]
    },
    {
      "cell_type": "code",
      "source": [
        "!pip install turicreate"
      ],
      "metadata": {
        "colab": {
          "base_uri": "https://localhost:8080/"
        },
        "id": "oH0qLJeilCPq",
        "outputId": "9f0903a4-e6a2-44fa-900b-879c3b13380a"
      },
      "execution_count": null,
      "outputs": [
        {
          "output_type": "stream",
          "name": "stdout",
          "text": [
            "Looking in indexes: https://pypi.org/simple, https://us-python.pkg.dev/colab-wheels/public/simple/\n",
            "Requirement already satisfied: turicreate in /usr/local/lib/python3.8/dist-packages (6.4.1)\n",
            "Requirement already satisfied: decorator>=4.0.9 in /usr/local/lib/python3.8/dist-packages (from turicreate) (4.4.2)\n",
            "Requirement already satisfied: resampy==0.2.1 in /usr/local/lib/python3.8/dist-packages (from turicreate) (0.2.1)\n",
            "Requirement already satisfied: prettytable==0.7.2 in /usr/local/lib/python3.8/dist-packages (from turicreate) (0.7.2)\n",
            "Requirement already satisfied: requests>=2.9.1 in /usr/local/lib/python3.8/dist-packages (from turicreate) (2.25.1)\n",
            "Requirement already satisfied: numpy in /usr/local/lib/python3.8/dist-packages (from turicreate) (1.21.6)\n",
            "Requirement already satisfied: pillow>=5.2.0 in /usr/local/lib/python3.8/dist-packages (from turicreate) (7.1.2)\n",
            "Requirement already satisfied: six>=1.10.0 in /usr/local/lib/python3.8/dist-packages (from turicreate) (1.15.0)\n",
            "Requirement already satisfied: pandas>=0.23.2 in /usr/local/lib/python3.8/dist-packages (from turicreate) (1.3.5)\n",
            "Requirement already satisfied: scipy>=1.1.0 in /usr/local/lib/python3.8/dist-packages (from turicreate) (1.7.3)\n",
            "Requirement already satisfied: tensorflow>=2.0.0 in /usr/local/lib/python3.8/dist-packages (from turicreate) (2.9.2)\n",
            "Requirement already satisfied: numba<0.51.0 in /usr/local/lib/python3.8/dist-packages (from turicreate) (0.50.1)\n",
            "Requirement already satisfied: coremltools==4.0b3 in /usr/local/lib/python3.8/dist-packages (from turicreate) (4.0b3)\n",
            "Requirement already satisfied: protobuf>=3.1.0 in /usr/local/lib/python3.8/dist-packages (from coremltools==4.0b3->turicreate) (3.19.6)\n",
            "Requirement already satisfied: tqdm in /usr/local/lib/python3.8/dist-packages (from coremltools==4.0b3->turicreate) (4.64.1)\n",
            "Requirement already satisfied: attr in /usr/local/lib/python3.8/dist-packages (from coremltools==4.0b3->turicreate) (0.3.2)\n",
            "Requirement already satisfied: attrs in /usr/local/lib/python3.8/dist-packages (from coremltools==4.0b3->turicreate) (22.2.0)\n",
            "Requirement already satisfied: sympy in /usr/local/lib/python3.8/dist-packages (from coremltools==4.0b3->turicreate) (1.7.1)\n",
            "Requirement already satisfied: llvmlite<0.34,>=0.33.0.dev0 in /usr/local/lib/python3.8/dist-packages (from numba<0.51.0->turicreate) (0.33.0)\n",
            "Requirement already satisfied: setuptools in /usr/local/lib/python3.8/dist-packages (from numba<0.51.0->turicreate) (57.4.0)\n",
            "Requirement already satisfied: pytz>=2017.3 in /usr/local/lib/python3.8/dist-packages (from pandas>=0.23.2->turicreate) (2022.7)\n",
            "Requirement already satisfied: python-dateutil>=2.7.3 in /usr/local/lib/python3.8/dist-packages (from pandas>=0.23.2->turicreate) (2.8.2)\n",
            "Requirement already satisfied: chardet<5,>=3.0.2 in /usr/local/lib/python3.8/dist-packages (from requests>=2.9.1->turicreate) (4.0.0)\n",
            "Requirement already satisfied: certifi>=2017.4.17 in /usr/local/lib/python3.8/dist-packages (from requests>=2.9.1->turicreate) (2022.12.7)\n",
            "Requirement already satisfied: urllib3<1.27,>=1.21.1 in /usr/local/lib/python3.8/dist-packages (from requests>=2.9.1->turicreate) (1.24.3)\n",
            "Requirement already satisfied: idna<3,>=2.5 in /usr/local/lib/python3.8/dist-packages (from requests>=2.9.1->turicreate) (2.10)\n",
            "Requirement already satisfied: tensorflow-estimator<2.10.0,>=2.9.0rc0 in /usr/local/lib/python3.8/dist-packages (from tensorflow>=2.0.0->turicreate) (2.9.0)\n",
            "Requirement already satisfied: keras-preprocessing>=1.1.1 in /usr/local/lib/python3.8/dist-packages (from tensorflow>=2.0.0->turicreate) (1.1.2)\n",
            "Requirement already satisfied: absl-py>=1.0.0 in /usr/local/lib/python3.8/dist-packages (from tensorflow>=2.0.0->turicreate) (1.3.0)\n",
            "Requirement already satisfied: termcolor>=1.1.0 in /usr/local/lib/python3.8/dist-packages (from tensorflow>=2.0.0->turicreate) (2.2.0)\n",
            "Requirement already satisfied: keras<2.10.0,>=2.9.0rc0 in /usr/local/lib/python3.8/dist-packages (from tensorflow>=2.0.0->turicreate) (2.9.0)\n",
            "Requirement already satisfied: flatbuffers<2,>=1.12 in /usr/local/lib/python3.8/dist-packages (from tensorflow>=2.0.0->turicreate) (1.12)\n",
            "Requirement already satisfied: google-pasta>=0.1.1 in /usr/local/lib/python3.8/dist-packages (from tensorflow>=2.0.0->turicreate) (0.2.0)\n",
            "Requirement already satisfied: wrapt>=1.11.0 in /usr/local/lib/python3.8/dist-packages (from tensorflow>=2.0.0->turicreate) (1.14.1)\n",
            "Requirement already satisfied: grpcio<2.0,>=1.24.3 in /usr/local/lib/python3.8/dist-packages (from tensorflow>=2.0.0->turicreate) (1.51.1)\n",
            "Requirement already satisfied: h5py>=2.9.0 in /usr/local/lib/python3.8/dist-packages (from tensorflow>=2.0.0->turicreate) (3.1.0)\n",
            "Requirement already satisfied: opt-einsum>=2.3.2 in /usr/local/lib/python3.8/dist-packages (from tensorflow>=2.0.0->turicreate) (3.3.0)\n",
            "Requirement already satisfied: astunparse>=1.6.0 in /usr/local/lib/python3.8/dist-packages (from tensorflow>=2.0.0->turicreate) (1.6.3)\n",
            "Requirement already satisfied: tensorflow-io-gcs-filesystem>=0.23.1 in /usr/local/lib/python3.8/dist-packages (from tensorflow>=2.0.0->turicreate) (0.29.0)\n",
            "Requirement already satisfied: packaging in /usr/local/lib/python3.8/dist-packages (from tensorflow>=2.0.0->turicreate) (21.3)\n",
            "Requirement already satisfied: typing-extensions>=3.6.6 in /usr/local/lib/python3.8/dist-packages (from tensorflow>=2.0.0->turicreate) (4.4.0)\n",
            "Requirement already satisfied: gast<=0.4.0,>=0.2.1 in /usr/local/lib/python3.8/dist-packages (from tensorflow>=2.0.0->turicreate) (0.4.0)\n",
            "Requirement already satisfied: tensorboard<2.10,>=2.9 in /usr/local/lib/python3.8/dist-packages (from tensorflow>=2.0.0->turicreate) (2.9.1)\n",
            "Requirement already satisfied: libclang>=13.0.0 in /usr/local/lib/python3.8/dist-packages (from tensorflow>=2.0.0->turicreate) (15.0.6.1)\n",
            "Requirement already satisfied: wheel<1.0,>=0.23.0 in /usr/local/lib/python3.8/dist-packages (from astunparse>=1.6.0->tensorflow>=2.0.0->turicreate) (0.38.4)\n",
            "Requirement already satisfied: werkzeug>=1.0.1 in /usr/local/lib/python3.8/dist-packages (from tensorboard<2.10,>=2.9->tensorflow>=2.0.0->turicreate) (1.0.1)\n",
            "Requirement already satisfied: tensorboard-data-server<0.7.0,>=0.6.0 in /usr/local/lib/python3.8/dist-packages (from tensorboard<2.10,>=2.9->tensorflow>=2.0.0->turicreate) (0.6.1)\n",
            "Requirement already satisfied: google-auth<3,>=1.6.3 in /usr/local/lib/python3.8/dist-packages (from tensorboard<2.10,>=2.9->tensorflow>=2.0.0->turicreate) (2.16.0)\n",
            "Requirement already satisfied: google-auth-oauthlib<0.5,>=0.4.1 in /usr/local/lib/python3.8/dist-packages (from tensorboard<2.10,>=2.9->tensorflow>=2.0.0->turicreate) (0.4.6)\n",
            "Requirement already satisfied: markdown>=2.6.8 in /usr/local/lib/python3.8/dist-packages (from tensorboard<2.10,>=2.9->tensorflow>=2.0.0->turicreate) (3.4.1)\n",
            "Requirement already satisfied: tensorboard-plugin-wit>=1.6.0 in /usr/local/lib/python3.8/dist-packages (from tensorboard<2.10,>=2.9->tensorflow>=2.0.0->turicreate) (1.8.1)\n",
            "Requirement already satisfied: pyparsing!=3.0.5,>=2.0.2 in /usr/local/lib/python3.8/dist-packages (from packaging->tensorflow>=2.0.0->turicreate) (3.0.9)\n",
            "Requirement already satisfied: mpmath>=0.19 in /usr/local/lib/python3.8/dist-packages (from sympy->coremltools==4.0b3->turicreate) (1.2.1)\n",
            "Requirement already satisfied: pyasn1-modules>=0.2.1 in /usr/local/lib/python3.8/dist-packages (from google-auth<3,>=1.6.3->tensorboard<2.10,>=2.9->tensorflow>=2.0.0->turicreate) (0.2.8)\n",
            "Requirement already satisfied: cachetools<6.0,>=2.0.0 in /usr/local/lib/python3.8/dist-packages (from google-auth<3,>=1.6.3->tensorboard<2.10,>=2.9->tensorflow>=2.0.0->turicreate) (5.2.1)\n",
            "Requirement already satisfied: rsa<5,>=3.1.4 in /usr/local/lib/python3.8/dist-packages (from google-auth<3,>=1.6.3->tensorboard<2.10,>=2.9->tensorflow>=2.0.0->turicreate) (4.9)\n",
            "Requirement already satisfied: requests-oauthlib>=0.7.0 in /usr/local/lib/python3.8/dist-packages (from google-auth-oauthlib<0.5,>=0.4.1->tensorboard<2.10,>=2.9->tensorflow>=2.0.0->turicreate) (1.3.1)\n",
            "Requirement already satisfied: importlib-metadata>=4.4 in /usr/local/lib/python3.8/dist-packages (from markdown>=2.6.8->tensorboard<2.10,>=2.9->tensorflow>=2.0.0->turicreate) (6.0.0)\n",
            "Requirement already satisfied: zipp>=0.5 in /usr/local/lib/python3.8/dist-packages (from importlib-metadata>=4.4->markdown>=2.6.8->tensorboard<2.10,>=2.9->tensorflow>=2.0.0->turicreate) (3.11.0)\n",
            "Requirement already satisfied: pyasn1<0.5.0,>=0.4.6 in /usr/local/lib/python3.8/dist-packages (from pyasn1-modules>=0.2.1->google-auth<3,>=1.6.3->tensorboard<2.10,>=2.9->tensorflow>=2.0.0->turicreate) (0.4.8)\n",
            "Requirement already satisfied: oauthlib>=3.0.0 in /usr/local/lib/python3.8/dist-packages (from requests-oauthlib>=0.7.0->google-auth-oauthlib<0.5,>=0.4.1->tensorboard<2.10,>=2.9->tensorflow>=2.0.0->turicreate) (3.2.2)\n"
          ]
        }
      ]
    },
    {
      "cell_type": "code",
      "source": [
        "# Mount your google drive in google colab\n",
        "# from google.colab import drive\n",
        "# drive.mount('/content/drive')\n"
      ],
      "metadata": {
        "id": "kIjav_2_l414"
      },
      "execution_count": null,
      "outputs": []
    },
    {
      "cell_type": "code",
      "source": [
        "# Add the directory\n",
        "# import sys\n",
        "# sys.path.insert(0,'/content/drive/My Drive/SupervisedML/Assignment1/utils.py')"
      ],
      "metadata": {
        "id": "pbPw7Vsno2kt"
      },
      "execution_count": null,
      "outputs": []
    },
    {
      "cell_type": "code",
      "execution_count": 1,
      "metadata": {
        "id": "4rr_TthQk96U"
      },
      "outputs": [],
      "source": [
        "import turicreate as tc\n",
        "import numpy as np\n",
        "import matplotlib.pyplot as plt\n",
        "import utils"
      ]
    },
    {
      "cell_type": "code",
      "source": [
        "# import csv from github\n",
        "data = tc.SFrame('https://raw.githubusercontent.com/luisguiserrano/manning/master/Chapter_3_Linear_Regression/Hyderabad.csv')\n",
        "data"
      ],
      "metadata": {
        "id": "zx1Ldmj3FLZF"
      },
      "execution_count": null,
      "outputs": []
    },
    {
      "cell_type": "code",
      "execution_count": null,
      "metadata": {
        "id": "PGos8I7Uk96V"
      },
      "outputs": [],
      "source": [
        "# Line commented because we are using the file from github\n",
        "# data = tc.SFrame('Hyderabad.csv')\n",
        "# data"
      ]
    },
    {
      "cell_type": "markdown",
      "metadata": {
        "id": "Fte2A5-hk96V"
      },
      "source": [
        "### Exploring the relationship between price and area"
      ]
    },
    {
      "cell_type": "code",
      "execution_count": null,
      "metadata": {
        "id": "bSJXJFA-k96V"
      },
      "outputs": [],
      "source": [
        "plt.scatter(data['Area'], data['Price'])"
      ]
    },
    {
      "cell_type": "code",
      "execution_count": null,
      "metadata": {
        "id": "KFwI-dTzk96W"
      },
      "outputs": [],
      "source": [
        "simple_model = tc.linear_regression.create(data, features=['Area'], target='Price')"
      ]
    },
    {
      "cell_type": "code",
      "execution_count": null,
      "metadata": {
        "id": "V9W1-Ri3k96W"
      },
      "outputs": [],
      "source": [
        "simple_model.coefficients"
      ]
    },
    {
      "cell_type": "code",
      "execution_count": null,
      "metadata": {
        "id": "HXcQYsbFk96W"
      },
      "outputs": [],
      "source": [
        "b, m = simple_model.coefficients['value']\n",
        "print(\"slope:\", m)\n",
        "print(\"y-intercept:\", b)"
      ]
    },
    {
      "cell_type": "code",
      "execution_count": null,
      "metadata": {
        "id": "bkbcM_L3k96W"
      },
      "outputs": [],
      "source": [
        "plt.scatter(data['Area'], data['Price'])\n",
        "utils.draw_line(m, b, starting=0, ending=max(data['Area']))"
      ]
    },
    {
      "cell_type": "markdown",
      "metadata": {
        "id": "eCuheu6ck96X"
      },
      "source": [
        "### Building a model that uses all the features"
      ]
    },
    {
      "cell_type": "code",
      "execution_count": null,
      "metadata": {
        "id": "4DCMiomlk96X"
      },
      "outputs": [],
      "source": [
        "model = tc.linear_regression.create(data, target='Price')"
      ]
    },
    {
      "cell_type": "code",
      "execution_count": null,
      "metadata": {
        "id": "OfEydioHk96X"
      },
      "outputs": [],
      "source": [
        "model.coefficients"
      ]
    },
    {
      "cell_type": "code",
      "execution_count": null,
      "metadata": {
        "id": "IYpDoXZ6k96X"
      },
      "outputs": [],
      "source": [
        "model.evaluate(data)"
      ]
    },
    {
      "cell_type": "code",
      "execution_count": null,
      "metadata": {
        "id": "mPQfWfTyk96X"
      },
      "outputs": [],
      "source": [
        "house = tc.SFrame({'Area': [1000], 'No. of Bedrooms':[3]})\n",
        "house"
      ]
    },
    {
      "cell_type": "code",
      "execution_count": null,
      "metadata": {
        "id": "22nW-JNxk96Y"
      },
      "outputs": [],
      "source": [
        "model.predict(house)"
      ]
    },
    {
      "cell_type": "code",
      "source": [
        "# rename columns to maintain a naming pattern(No. of Bedrooms)\n",
        "\n",
        "data = data.rename({\"No. of Bedrooms\": \"NofBedrooms\"})"
      ],
      "metadata": {
        "id": "uari6a_DrPYm"
      },
      "execution_count": null,
      "outputs": []
    },
    {
      "cell_type": "markdown",
      "source": [
        "## Question 1 "
      ],
      "metadata": {
        "id": "exv30iehp640"
      }
    },
    {
      "cell_type": "markdown",
      "source": [
        "### a) 2518 rows and 40 columns. \n",
        "We used the `data.show` function, similar to `info()` from Pandas."
      ],
      "metadata": {
        "id": "fJGP8XZbqCcr"
      }
    },
    {
      "cell_type": "code",
      "source": [
        "data.show"
      ],
      "metadata": {
        "id": "ZvIadq9Bp_iA"
      },
      "execution_count": null,
      "outputs": []
    },
    {
      "cell_type": "code",
      "source": [
        "import matplotlib.pyplot as plt\n",
        "\n",
        "plt.scatter(data['Price'], data['Area'])"
      ],
      "metadata": {
        "id": "_JdpF1M1ub_t"
      },
      "execution_count": null,
      "outputs": []
    },
    {
      "cell_type": "markdown",
      "source": [
        "### b) Potential Outliers:\n",
        "\n",
        "* [16.5, 2750]\n",
        "* [0.8, 9400]\n",
        "* [0,66, 6718]\n",
        "* [0,35, 7600]\n",
        "* [0.29, 8500]\n"
      ],
      "metadata": {
        "id": "GmQ-l7E6qVxQ"
      }
    },
    {
      "cell_type": "code",
      "source": [
        "# find the coordinates\n",
        "\n",
        "plt.scatter(data['Price'], data['Area'])\n",
        "\n",
        "\n",
        "for xy in zip(data['Price'], data['Area']):\n",
        "   plt.annotate(xy,xy=xy)\n",
        "\n",
        "plt.show()"
      ],
      "metadata": {
        "id": "Kjc0LOFWqcl3"
      },
      "execution_count": null,
      "outputs": []
    },
    {
      "cell_type": "markdown",
      "source": [
        "### c) Equation best fit\n",
        "\n",
        "y = mx + b <br>\n",
        "y = 9732.470958729837x - 6187141.43089948 \n"
      ],
      "metadata": {
        "id": "Z1mzcQOgwK51"
      }
    },
    {
      "cell_type": "code",
      "source": [
        "b, m = simple_model.coefficients['value']\n",
        "print(\"slope:\", m)\n",
        "print(\"y-intercept:\", b)"
      ],
      "metadata": {
        "id": "rG3AFQH5KELp"
      },
      "execution_count": null,
      "outputs": []
    },
    {
      "cell_type": "markdown",
      "source": [
        "### d) Coefficient"
      ],
      "metadata": {
        "id": "IDjvCXXFwMYt"
      }
    },
    {
      "cell_type": "code",
      "source": [
        "simple_model.coefficients"
      ],
      "metadata": {
        "id": "OwtIrJ0MJXGC"
      },
      "execution_count": null,
      "outputs": []
    },
    {
      "cell_type": "code",
      "source": [
        "model.coefficients"
      ],
      "metadata": {
        "id": "nxmlAj0SJX3j"
      },
      "execution_count": null,
      "outputs": []
    },
    {
      "cell_type": "code",
      "source": [
        "model.evaluate(data)"
      ],
      "metadata": {
        "id": "EZ4y5-nWE0DV"
      },
      "execution_count": null,
      "outputs": []
    },
    {
      "cell_type": "markdown",
      "source": [
        "### e) Maximum error and rmse\n",
        "\n",
        "> Indented block\n",
        "\n",
        "\n",
        "\n",
        "* Maximum error (140159366.5424237): <br>\n",
        "It is the confidence interval for the errors, that is, the difference between the predicted value and real value. \n",
        "\n",
        "\n",
        "* Root-mean-squared error (4325179.200738035): <br>\n",
        "It is the standard deviation of the errors, that is, how far the points are from the regression line.\n",
        "\n"
      ],
      "metadata": {
        "id": "UbvhxTVFwRMh"
      }
    },
    {
      "cell_type": "markdown",
      "source": [
        "### f) Predict the price\n",
        "\n",
        "uncertainty: <br>\n",
        "\n",
        " 2325641.275676593 +- 140159366.5424237\n",
        " \n",
        " (142485007.8181003) +- (-137833725.2667471)\n",
        "\n"
      ],
      "metadata": {
        "id": "hpSTRh9jwSi-"
      }
    },
    {
      "cell_type": "code",
      "source": [
        "# create house model for predict\n",
        "house = tc.SFrame({'Area': [1000], 'No. of Bedrooms':[3]})\n",
        "house"
      ],
      "metadata": {
        "id": "jEjdx8K8txzb"
      },
      "execution_count": null,
      "outputs": []
    },
    {
      "cell_type": "code",
      "source": [
        "model.predict(house)"
      ],
      "metadata": {
        "id": "oHVLzdGnIgDi"
      },
      "execution_count": null,
      "outputs": []
    }
  ],
  "metadata": {
    "kernelspec": {
      "display_name": "Python 3",
      "language": "python",
      "name": "python3"
    },
    "language_info": {
      "codemirror_mode": {
        "name": "ipython",
        "version": 3
      },
      "file_extension": ".py",
      "mimetype": "text/x-python",
      "name": "python",
      "nbconvert_exporter": "python",
      "pygments_lexer": "ipython3",
      "version": "3.8.1"
    },
    "colab": {
      "provenance": [],
      "include_colab_link": true
    }
  },
  "nbformat": 4,
  "nbformat_minor": 0
}